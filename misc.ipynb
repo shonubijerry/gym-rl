{
 "cells": [
  {
   "cell_type": "code",
   "execution_count": 1,
   "metadata": {},
   "outputs": [],
   "source": [
    "import gym\n",
    "import torch\n",
    "import torch.optim as optim\n",
    "import numpy as np\n",
    "from collections import namedtuple\n",
    "import torch.nn.functional as F\n",
    "from skimage.transform import resize\n",
    "\n",
    "import matplotlib.pyplot as plt\n",
    "\n",
    "from utils import ReplayBuffer, label_with_episode_number, save_random_agent_gif, file_exists\n",
    "\n",
    "from environment_wrapper import EnvironmentWrapper, ObservationWrapper, RewardWrapper, ActionWrapper\n",
    "from fileIO import FileIO\n"
   ]
  },
  {
   "cell_type": "code",
   "execution_count": null,
   "metadata": {},
   "outputs": [],
   "source": [
    "arr = [np.zeros((2, 1, 3)), 4]\n",
    "arr2 = np.zeros((4, 2, 3))\n",
    "\n",
    "arr2[0] += 3\n",
    "arr2[1] += 5\n",
    "\n",
    "# if np.array_equal(arr, arr2):\n",
    "#   print('same')\n",
    "  \n",
    "print(arr)\n",
    "print(arr2)"
   ]
  },
  {
   "cell_type": "code",
   "execution_count": null,
   "metadata": {},
   "outputs": [],
   "source": [
    "def flatten_observation_space(observation_space):\n",
    "  \"\"\"Flattens the observation space.\n",
    "\n",
    "  Args:\n",
    "    observation_space: The observation space to flatten.\n",
    "\n",
    "  Returns:\n",
    "    A flattened observation space.\n",
    "  \"\"\"\n",
    "\n",
    "  flattened_observation_space = np.prod(observation_space.shape)\n",
    "  return flattened_observation_space\n",
    "\n",
    "\n",
    "observation_space = (210, 160, 3)\n",
    "flattened_observation_space = flatten_observation_space(observation_space)\n",
    "print(flattened_observation_space)"
   ]
  },
  {
   "cell_type": "code",
   "execution_count": null,
   "metadata": {},
   "outputs": [],
   "source": [
    "import numpy as np\n",
    "from skimage.color import rgb2gray\n",
    "\n",
    "# Define the observation space shape\n",
    "observation_shape = (84, 84, 3)\n",
    "\n",
    "# Flatten the observation space shape to get the number of possible states\n",
    "num_states = np.prod(observation_shape)\n",
    "num_actions = 4\n",
    "q_table = np.zeros((num_states, num_actions))\n",
    "\n",
    "# Create a sample observation state\n",
    "observation_state = np.random.randint(0, 1, observation_shape)  # Example observation state\n",
    "\n",
    "# Display the observation state as an image\n",
    "plt.imshow(observation_state)\n",
    "plt.axis('off')\n",
    "plt.show()\n",
    "\n",
    "gray_image = rgb2gray(observation_state)\n",
    "print(observation_state.sum() - 84672)\n",
    "print(gray_image.sum())\n",
    "# observation_state_g = np.squeeze(observation_state)\n",
    "# rgb_state = np.repeat(observation_state, 3, axis=2)\n",
    "\n",
    "# Display the observation state as an image\n",
    "plt.imshow(gray_image, cmap='gray')\n",
    "plt.axis('off')\n",
    "plt.show()\n",
    "\n",
    "rgb_state = np.repeat(gray_image.reshape(84, 84, 1), 3, axis=2)\n",
    "\n",
    "plt.imshow(observation_state)\n",
    "plt.axis('off')\n",
    "plt.show()\n",
    "\n",
    "# Flatten the observation state\n",
    "# flattened_state = observation_state.flatten()\n",
    "\n",
    "# # Remove the last dimension if it is 1\n",
    "# observation_state = np.squeeze(observation_state)\n",
    "\n",
    "# Convert the flattened state to an index\n",
    "state_index = np.ravel_multi_index(gray_image, (84, 84, 1))\n",
    "\n",
    "# Access Q-values for the state from the Q-table\n",
    "q_values = q_table[state_index]\n"
   ]
  },
  {
   "cell_type": "code",
   "execution_count": null,
   "metadata": {},
   "outputs": [],
   "source": [
    "arr = [2,5,9,1]\n",
    "\n",
    "print(','.join([str(i) for i in arr]))"
   ]
  },
  {
   "cell_type": "code",
   "execution_count": null,
   "metadata": {},
   "outputs": [],
   "source": [
    "def test(*args) -> None:\n",
    "  # u = ','.join([str(i) for i in args])\n",
    "  print(tuple(args))\n",
    "  data = np.zeros(tuple(args))\n",
    "  print(data)"
   ]
  },
  {
   "cell_type": "code",
   "execution_count": null,
   "metadata": {},
   "outputs": [],
   "source": [
    "test(5, *(2,1))"
   ]
  },
  {
   "cell_type": "code",
   "execution_count": null,
   "metadata": {},
   "outputs": [],
   "source": []
  }
 ],
 "metadata": {
  "kernelspec": {
   "display_name": "base",
   "language": "python",
   "name": "python3"
  },
  "language_info": {
   "codemirror_mode": {
    "name": "ipython",
    "version": 3
   },
   "file_extension": ".py",
   "mimetype": "text/x-python",
   "name": "python",
   "nbconvert_exporter": "python",
   "pygments_lexer": "ipython3",
   "version": "3.10.10"
  },
  "orig_nbformat": 4
 },
 "nbformat": 4,
 "nbformat_minor": 2
}
